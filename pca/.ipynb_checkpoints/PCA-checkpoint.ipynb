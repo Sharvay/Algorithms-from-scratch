{
 "cells": [
  {
   "cell_type": "markdown",
   "id": "f50f2ce6",
   "metadata": {},
   "source": [
    "# PCA Implementation from scratch"
   ]
  },
  {
   "cell_type": "code",
   "execution_count": 1,
   "id": "fdfc85e6",
   "metadata": {},
   "outputs": [],
   "source": [
    "# MNIST dataset downloaded from Kaggle : \n",
    "#https://www.kaggle.com/c/digit-recognizer/data"
   ]
  },
  {
   "cell_type": "code",
   "execution_count": 2,
   "id": "de99b6c2",
   "metadata": {},
   "outputs": [],
   "source": [
    "#Importing Libraries\n",
    "import pandas as pd\n",
    "from sklearn.preprocessing import StandardScaler\n",
    "import numpy as np\n",
    "from numpy.linalg import eig\n",
    "import matplotlib.pyplot as plt\n",
    "import seaborn as sns"
   ]
  },
  {
   "cell_type": "code",
   "execution_count": 3,
   "id": "868289a9",
   "metadata": {},
   "outputs": [],
   "source": [
    "#Reading Data and storing labels in different variable\n",
    "data=pd.read_csv('train.csv')\n",
    "data_labels=data['label']\n",
    "\n",
    "# Drop the label feature from data.\n",
    "data.drop('label',axis=1,inplace=True)"
   ]
  },
  {
   "cell_type": "code",
   "execution_count": 6,
   "id": "37fcf2d8",
   "metadata": {},
   "outputs": [
    {
     "data": {
      "text/html": [
       "<div>\n",
       "<style scoped>\n",
       "    .dataframe tbody tr th:only-of-type {\n",
       "        vertical-align: middle;\n",
       "    }\n",
       "\n",
       "    .dataframe tbody tr th {\n",
       "        vertical-align: top;\n",
       "    }\n",
       "\n",
       "    .dataframe thead th {\n",
       "        text-align: right;\n",
       "    }\n",
       "</style>\n",
       "<table border=\"1\" class=\"dataframe\">\n",
       "  <thead>\n",
       "    <tr style=\"text-align: right;\">\n",
       "      <th></th>\n",
       "      <th>pixel0</th>\n",
       "      <th>pixel1</th>\n",
       "      <th>pixel2</th>\n",
       "      <th>pixel3</th>\n",
       "      <th>pixel4</th>\n",
       "      <th>pixel5</th>\n",
       "      <th>pixel6</th>\n",
       "      <th>pixel7</th>\n",
       "      <th>pixel8</th>\n",
       "      <th>pixel9</th>\n",
       "      <th>...</th>\n",
       "      <th>pixel774</th>\n",
       "      <th>pixel775</th>\n",
       "      <th>pixel776</th>\n",
       "      <th>pixel777</th>\n",
       "      <th>pixel778</th>\n",
       "      <th>pixel779</th>\n",
       "      <th>pixel780</th>\n",
       "      <th>pixel781</th>\n",
       "      <th>pixel782</th>\n",
       "      <th>pixel783</th>\n",
       "    </tr>\n",
       "  </thead>\n",
       "  <tbody>\n",
       "    <tr>\n",
       "      <th>0</th>\n",
       "      <td>0</td>\n",
       "      <td>0</td>\n",
       "      <td>0</td>\n",
       "      <td>0</td>\n",
       "      <td>0</td>\n",
       "      <td>0</td>\n",
       "      <td>0</td>\n",
       "      <td>0</td>\n",
       "      <td>0</td>\n",
       "      <td>0</td>\n",
       "      <td>...</td>\n",
       "      <td>0</td>\n",
       "      <td>0</td>\n",
       "      <td>0</td>\n",
       "      <td>0</td>\n",
       "      <td>0</td>\n",
       "      <td>0</td>\n",
       "      <td>0</td>\n",
       "      <td>0</td>\n",
       "      <td>0</td>\n",
       "      <td>0</td>\n",
       "    </tr>\n",
       "    <tr>\n",
       "      <th>1</th>\n",
       "      <td>0</td>\n",
       "      <td>0</td>\n",
       "      <td>0</td>\n",
       "      <td>0</td>\n",
       "      <td>0</td>\n",
       "      <td>0</td>\n",
       "      <td>0</td>\n",
       "      <td>0</td>\n",
       "      <td>0</td>\n",
       "      <td>0</td>\n",
       "      <td>...</td>\n",
       "      <td>0</td>\n",
       "      <td>0</td>\n",
       "      <td>0</td>\n",
       "      <td>0</td>\n",
       "      <td>0</td>\n",
       "      <td>0</td>\n",
       "      <td>0</td>\n",
       "      <td>0</td>\n",
       "      <td>0</td>\n",
       "      <td>0</td>\n",
       "    </tr>\n",
       "    <tr>\n",
       "      <th>2</th>\n",
       "      <td>0</td>\n",
       "      <td>0</td>\n",
       "      <td>0</td>\n",
       "      <td>0</td>\n",
       "      <td>0</td>\n",
       "      <td>0</td>\n",
       "      <td>0</td>\n",
       "      <td>0</td>\n",
       "      <td>0</td>\n",
       "      <td>0</td>\n",
       "      <td>...</td>\n",
       "      <td>0</td>\n",
       "      <td>0</td>\n",
       "      <td>0</td>\n",
       "      <td>0</td>\n",
       "      <td>0</td>\n",
       "      <td>0</td>\n",
       "      <td>0</td>\n",
       "      <td>0</td>\n",
       "      <td>0</td>\n",
       "      <td>0</td>\n",
       "    </tr>\n",
       "    <tr>\n",
       "      <th>3</th>\n",
       "      <td>0</td>\n",
       "      <td>0</td>\n",
       "      <td>0</td>\n",
       "      <td>0</td>\n",
       "      <td>0</td>\n",
       "      <td>0</td>\n",
       "      <td>0</td>\n",
       "      <td>0</td>\n",
       "      <td>0</td>\n",
       "      <td>0</td>\n",
       "      <td>...</td>\n",
       "      <td>0</td>\n",
       "      <td>0</td>\n",
       "      <td>0</td>\n",
       "      <td>0</td>\n",
       "      <td>0</td>\n",
       "      <td>0</td>\n",
       "      <td>0</td>\n",
       "      <td>0</td>\n",
       "      <td>0</td>\n",
       "      <td>0</td>\n",
       "    </tr>\n",
       "    <tr>\n",
       "      <th>4</th>\n",
       "      <td>0</td>\n",
       "      <td>0</td>\n",
       "      <td>0</td>\n",
       "      <td>0</td>\n",
       "      <td>0</td>\n",
       "      <td>0</td>\n",
       "      <td>0</td>\n",
       "      <td>0</td>\n",
       "      <td>0</td>\n",
       "      <td>0</td>\n",
       "      <td>...</td>\n",
       "      <td>0</td>\n",
       "      <td>0</td>\n",
       "      <td>0</td>\n",
       "      <td>0</td>\n",
       "      <td>0</td>\n",
       "      <td>0</td>\n",
       "      <td>0</td>\n",
       "      <td>0</td>\n",
       "      <td>0</td>\n",
       "      <td>0</td>\n",
       "    </tr>\n",
       "    <tr>\n",
       "      <th>...</th>\n",
       "      <td>...</td>\n",
       "      <td>...</td>\n",
       "      <td>...</td>\n",
       "      <td>...</td>\n",
       "      <td>...</td>\n",
       "      <td>...</td>\n",
       "      <td>...</td>\n",
       "      <td>...</td>\n",
       "      <td>...</td>\n",
       "      <td>...</td>\n",
       "      <td>...</td>\n",
       "      <td>...</td>\n",
       "      <td>...</td>\n",
       "      <td>...</td>\n",
       "      <td>...</td>\n",
       "      <td>...</td>\n",
       "      <td>...</td>\n",
       "      <td>...</td>\n",
       "      <td>...</td>\n",
       "      <td>...</td>\n",
       "      <td>...</td>\n",
       "    </tr>\n",
       "    <tr>\n",
       "      <th>41995</th>\n",
       "      <td>0</td>\n",
       "      <td>0</td>\n",
       "      <td>0</td>\n",
       "      <td>0</td>\n",
       "      <td>0</td>\n",
       "      <td>0</td>\n",
       "      <td>0</td>\n",
       "      <td>0</td>\n",
       "      <td>0</td>\n",
       "      <td>0</td>\n",
       "      <td>...</td>\n",
       "      <td>0</td>\n",
       "      <td>0</td>\n",
       "      <td>0</td>\n",
       "      <td>0</td>\n",
       "      <td>0</td>\n",
       "      <td>0</td>\n",
       "      <td>0</td>\n",
       "      <td>0</td>\n",
       "      <td>0</td>\n",
       "      <td>0</td>\n",
       "    </tr>\n",
       "    <tr>\n",
       "      <th>41996</th>\n",
       "      <td>0</td>\n",
       "      <td>0</td>\n",
       "      <td>0</td>\n",
       "      <td>0</td>\n",
       "      <td>0</td>\n",
       "      <td>0</td>\n",
       "      <td>0</td>\n",
       "      <td>0</td>\n",
       "      <td>0</td>\n",
       "      <td>0</td>\n",
       "      <td>...</td>\n",
       "      <td>0</td>\n",
       "      <td>0</td>\n",
       "      <td>0</td>\n",
       "      <td>0</td>\n",
       "      <td>0</td>\n",
       "      <td>0</td>\n",
       "      <td>0</td>\n",
       "      <td>0</td>\n",
       "      <td>0</td>\n",
       "      <td>0</td>\n",
       "    </tr>\n",
       "    <tr>\n",
       "      <th>41997</th>\n",
       "      <td>0</td>\n",
       "      <td>0</td>\n",
       "      <td>0</td>\n",
       "      <td>0</td>\n",
       "      <td>0</td>\n",
       "      <td>0</td>\n",
       "      <td>0</td>\n",
       "      <td>0</td>\n",
       "      <td>0</td>\n",
       "      <td>0</td>\n",
       "      <td>...</td>\n",
       "      <td>0</td>\n",
       "      <td>0</td>\n",
       "      <td>0</td>\n",
       "      <td>0</td>\n",
       "      <td>0</td>\n",
       "      <td>0</td>\n",
       "      <td>0</td>\n",
       "      <td>0</td>\n",
       "      <td>0</td>\n",
       "      <td>0</td>\n",
       "    </tr>\n",
       "    <tr>\n",
       "      <th>41998</th>\n",
       "      <td>0</td>\n",
       "      <td>0</td>\n",
       "      <td>0</td>\n",
       "      <td>0</td>\n",
       "      <td>0</td>\n",
       "      <td>0</td>\n",
       "      <td>0</td>\n",
       "      <td>0</td>\n",
       "      <td>0</td>\n",
       "      <td>0</td>\n",
       "      <td>...</td>\n",
       "      <td>0</td>\n",
       "      <td>0</td>\n",
       "      <td>0</td>\n",
       "      <td>0</td>\n",
       "      <td>0</td>\n",
       "      <td>0</td>\n",
       "      <td>0</td>\n",
       "      <td>0</td>\n",
       "      <td>0</td>\n",
       "      <td>0</td>\n",
       "    </tr>\n",
       "    <tr>\n",
       "      <th>41999</th>\n",
       "      <td>0</td>\n",
       "      <td>0</td>\n",
       "      <td>0</td>\n",
       "      <td>0</td>\n",
       "      <td>0</td>\n",
       "      <td>0</td>\n",
       "      <td>0</td>\n",
       "      <td>0</td>\n",
       "      <td>0</td>\n",
       "      <td>0</td>\n",
       "      <td>...</td>\n",
       "      <td>0</td>\n",
       "      <td>0</td>\n",
       "      <td>0</td>\n",
       "      <td>0</td>\n",
       "      <td>0</td>\n",
       "      <td>0</td>\n",
       "      <td>0</td>\n",
       "      <td>0</td>\n",
       "      <td>0</td>\n",
       "      <td>0</td>\n",
       "    </tr>\n",
       "  </tbody>\n",
       "</table>\n",
       "<p>42000 rows × 784 columns</p>\n",
       "</div>"
      ],
      "text/plain": [
       "       pixel0  pixel1  pixel2  pixel3  pixel4  pixel5  pixel6  pixel7  pixel8  \\\n",
       "0           0       0       0       0       0       0       0       0       0   \n",
       "1           0       0       0       0       0       0       0       0       0   \n",
       "2           0       0       0       0       0       0       0       0       0   \n",
       "3           0       0       0       0       0       0       0       0       0   \n",
       "4           0       0       0       0       0       0       0       0       0   \n",
       "...       ...     ...     ...     ...     ...     ...     ...     ...     ...   \n",
       "41995       0       0       0       0       0       0       0       0       0   \n",
       "41996       0       0       0       0       0       0       0       0       0   \n",
       "41997       0       0       0       0       0       0       0       0       0   \n",
       "41998       0       0       0       0       0       0       0       0       0   \n",
       "41999       0       0       0       0       0       0       0       0       0   \n",
       "\n",
       "       pixel9  ...  pixel774  pixel775  pixel776  pixel777  pixel778  \\\n",
       "0           0  ...         0         0         0         0         0   \n",
       "1           0  ...         0         0         0         0         0   \n",
       "2           0  ...         0         0         0         0         0   \n",
       "3           0  ...         0         0         0         0         0   \n",
       "4           0  ...         0         0         0         0         0   \n",
       "...       ...  ...       ...       ...       ...       ...       ...   \n",
       "41995       0  ...         0         0         0         0         0   \n",
       "41996       0  ...         0         0         0         0         0   \n",
       "41997       0  ...         0         0         0         0         0   \n",
       "41998       0  ...         0         0         0         0         0   \n",
       "41999       0  ...         0         0         0         0         0   \n",
       "\n",
       "       pixel779  pixel780  pixel781  pixel782  pixel783  \n",
       "0             0         0         0         0         0  \n",
       "1             0         0         0         0         0  \n",
       "2             0         0         0         0         0  \n",
       "3             0         0         0         0         0  \n",
       "4             0         0         0         0         0  \n",
       "...         ...       ...       ...       ...       ...  \n",
       "41995         0         0         0         0         0  \n",
       "41996         0         0         0         0         0  \n",
       "41997         0         0         0         0         0  \n",
       "41998         0         0         0         0         0  \n",
       "41999         0         0         0         0         0  \n",
       "\n",
       "[42000 rows x 784 columns]"
      ]
     },
     "execution_count": 6,
     "metadata": {},
     "output_type": "execute_result"
    }
   ],
   "source": [
    "data"
   ]
  },
  {
   "cell_type": "code",
   "execution_count": 7,
   "id": "284d3d00",
   "metadata": {},
   "outputs": [
    {
     "data": {
      "text/plain": [
       "0        1\n",
       "1        0\n",
       "2        1\n",
       "3        4\n",
       "4        0\n",
       "        ..\n",
       "41995    0\n",
       "41996    1\n",
       "41997    7\n",
       "41998    6\n",
       "41999    9\n",
       "Name: label, Length: 42000, dtype: int64"
      ]
     },
     "execution_count": 7,
     "metadata": {},
     "output_type": "execute_result"
    }
   ],
   "source": [
    "data_labels"
   ]
  },
  {
   "cell_type": "code",
   "execution_count": 10,
   "id": "8152a357",
   "metadata": {},
   "outputs": [
    {
     "data": {
      "text/plain": [
       "<matplotlib.image.AxesImage at 0x2cd00455ac0>"
      ]
     },
     "execution_count": 10,
     "metadata": {},
     "output_type": "execute_result"
    },
    {
     "data": {
      "image/png": "[encoded data removed]",
      "text/plain": [
       "<Figure size 432x288 with 1 Axes>"
      ]
     },
     "metadata": {
      "needs_background": "light"
     },
     "output_type": "display_data"
    }
   ],
   "source": [
    "plt.imshow(np.array(data.iloc[3]).reshape(28,28))"
   ]
  },
  {
   "cell_type": "code",
   "execution_count": 11,
   "id": "1832ec39",
   "metadata": {},
   "outputs": [],
   "source": [
    "# Data-preprocessing: Standardizing the data\n",
    "sc=StandardScaler()\n",
    "std_data=sc.fit_transform(data)"
   ]
  },
  {
   "cell_type": "code",
   "execution_count": 12,
   "id": "380a431d",
   "metadata": {},
   "outputs": [
    {
     "data": {
      "text/plain": [
       "array([[0., 0., 0., ..., 0., 0., 0.],\n",
       "       [0., 0., 0., ..., 0., 0., 0.],\n",
       "       [0., 0., 0., ..., 0., 0., 0.],\n",
       "       ...,\n",
       "       [0., 0., 0., ..., 0., 0., 0.],\n",
       "       [0., 0., 0., ..., 0., 0., 0.],\n",
       "       [0., 0., 0., ..., 0., 0., 0.]])"
      ]
     },
     "execution_count": 12,
     "metadata": {},
     "output_type": "execute_result"
    }
   ],
   "source": [
    "std_data"
   ]
  },
  {
   "cell_type": "code",
   "execution_count": 13,
   "id": "df26ab69",
   "metadata": {},
   "outputs": [
    {
     "data": {
      "text/plain": [
       "(42000, 784)"
      ]
     },
     "execution_count": 13,
     "metadata": {},
     "output_type": "execute_result"
    }
   ],
   "source": [
    "std_data.shape"
   ]
  },
  {
   "cell_type": "code",
   "execution_count": 14,
   "id": "c1f7b7de",
   "metadata": {},
   "outputs": [],
   "source": [
    "# Covariance Matrix = (X.T * X)/N \n",
    "# ie.shape (784 x 42000) * (42000 x 784) = (784 x 784) matrix\n",
    "\n",
    "covariance_matrix = (np.matmul(std_data.T,std_data))/std_data.shape[0]"
   ]
  },
  {
   "cell_type": "code",
   "execution_count": 15,
   "id": "9147a4ad",
   "metadata": {},
   "outputs": [
    {
     "data": {
      "text/plain": [
       "(784, 784)"
      ]
     },
     "execution_count": 15,
     "metadata": {},
     "output_type": "execute_result"
    }
   ],
   "source": [
    "covariance_matrix.shape"
   ]
  },
  {
   "cell_type": "code",
   "execution_count": 16,
   "id": "82d9d814",
   "metadata": {},
   "outputs": [],
   "source": [
    "# Finding the eigen-values and corresponding eigen-vectors of  covariance_matrix\n",
    "eig_values,eig_vectors=eig(covariance_matrix)"
   ]
  },
  {
   "cell_type": "code",
   "execution_count": 17,
   "id": "da860085",
   "metadata": {},
   "outputs": [
    {
     "data": {
      "text/plain": [
       "(784, 784)"
      ]
     },
     "execution_count": 17,
     "metadata": {},
     "output_type": "execute_result"
    }
   ],
   "source": [
    "# We will get 784 eigen values and corresponding eigen vectors of shape (784x784)\n",
    "\n",
    "eig_vectors.shape"
   ]
  },
  {
   "cell_type": "code",
   "execution_count": 58,
   "id": "f5164f3e",
   "metadata": {},
   "outputs": [
    {
     "data": {
      "text/plain": [
       "array([ 0.00000000e+00,  0.00000000e+00,  0.00000000e+00,  0.00000000e+00,\n",
       "        0.00000000e+00,  0.00000000e+00,  0.00000000e+00,  0.00000000e+00,\n",
       "        0.00000000e+00,  0.00000000e+00,  0.00000000e+00,  0.00000000e+00,\n",
       "       -1.19928945e-04,  1.97228286e-05,  1.91397276e-04,  1.91397276e-04,\n",
       "        0.00000000e+00,  0.00000000e+00,  0.00000000e+00,  0.00000000e+00,\n",
       "        0.00000000e+00,  0.00000000e+00,  0.00000000e+00,  0.00000000e+00,\n",
       "        0.00000000e+00,  0.00000000e+00,  0.00000000e+00,  0.00000000e+00,\n",
       "        0.00000000e+00,  0.00000000e+00,  0.00000000e+00,  0.00000000e+00,\n",
       "        4.83135818e-04,  6.47441857e-04,  1.62679338e-03,  1.95537283e-03,\n",
       "        2.74776969e-03,  3.75023065e-03,  4.56880011e-03,  4.15474601e-03,\n",
       "        2.74718694e-03,  2.42695582e-03,  2.83337270e-03,  1.98778007e-03,\n",
       "        1.17549167e-03,  5.21190421e-04,  1.96970841e-04,  7.86855737e-05,\n",
       "       -4.52203347e-06,  7.59191543e-04,  4.88196899e-04, -7.18957771e-06,\n",
       "        0.00000000e+00,  0.00000000e+00,  0.00000000e+00,  0.00000000e+00,\n",
       "        0.00000000e+00,  0.00000000e+00,  5.68404494e-04,  8.71345387e-04,\n",
       "        4.84597186e-04,  8.96579150e-04,  3.47334132e-03,  5.21921960e-03,\n",
       "        7.71052171e-03,  9.99208947e-03,  1.08361164e-02,  1.19729799e-02,\n",
       "        1.23619465e-02,  1.24234768e-02,  1.17593047e-02,  1.00269836e-02,\n",
       "        8.26783008e-03,  6.50162861e-03,  4.50640515e-03,  3.30347118e-03,\n",
       "        2.64079530e-03,  2.14764206e-03,  1.82777787e-03,  1.16015545e-03,\n",
       "        4.12076909e-04,  1.36973540e-04,  0.00000000e+00,  0.00000000e+00,\n",
       "        0.00000000e+00,  0.00000000e+00,  6.11469150e-04,  1.17191136e-03,\n",
       "        1.73403892e-03,  3.77890704e-03,  5.76287803e-03,  8.56346999e-03,\n",
       "        1.23740672e-02,  1.51916076e-02,  1.74507839e-02,  1.99021817e-02,\n",
       "        2.11866360e-02,  2.16732795e-02,  2.16553949e-02,  2.01155865e-02,\n",
       "        1.76272080e-02,  1.38520107e-02,  1.10525215e-02,  9.12845301e-03,\n",
       "        7.67342375e-03,  5.69383587e-03,  4.30853608e-03,  2.13936106e-03,\n",
       "        8.22853377e-04,  4.31718789e-04, -4.97704135e-04,  0.00000000e+00,\n",
       "        0.00000000e+00,  1.03366982e-04,  4.42186474e-04,  1.94011833e-03,\n",
       "        3.37764594e-03,  6.08890201e-03,  9.44273724e-03,  1.37642926e-02,\n",
       "        1.91356837e-02,  2.39173379e-02,  2.79197725e-02,  3.13484080e-02,\n",
       "        3.36149924e-02,  3.47371545e-02,  3.45271169e-02,  3.33806583e-02,\n",
       "        3.22698243e-02,  2.95588424e-02,  2.65166547e-02,  2.33736147e-02,\n",
       "        1.85109017e-02,  1.34058095e-02,  8.11279736e-03,  3.57024285e-03,\n",
       "        1.12270006e-03, -3.73372238e-04, -5.43356404e-04,  0.00000000e+00,\n",
       "        0.00000000e+00,  0.00000000e+00,  1.73674766e-04,  1.31582313e-03,\n",
       "        5.64724034e-03,  9.60539291e-03,  1.39845608e-02,  1.95290810e-02,\n",
       "        2.58520506e-02,  3.26801992e-02,  3.86881210e-02,  4.34829881e-02,\n",
       "        4.55558530e-02,  4.51647385e-02,  4.40145712e-02,  4.21610834e-02,\n",
       "        4.16314832e-02,  4.09603572e-02,  3.91671200e-02,  3.62861706e-02,\n",
       "        3.09855901e-02,  2.30582049e-02,  1.43310412e-02,  5.92452775e-03,\n",
       "        6.93757107e-04, -1.66786994e-03, -1.15602740e-03, -1.61983440e-04,\n",
       "        0.00000000e+00,  2.28380765e-05, -4.34721071e-04,  1.65264381e-03,\n",
       "        6.48514991e-03,  1.17055847e-02,  1.66092757e-02,  2.27668927e-02,\n",
       "        3.05310430e-02,  3.95231113e-02,  4.69242301e-02,  5.17134477e-02,\n",
       "        5.15666837e-02,  4.65303533e-02,  3.96762745e-02,  3.48428495e-02,\n",
       "        3.44262283e-02,  3.79177316e-02,  4.25712675e-02,  4.48727105e-02,\n",
       "        4.30143443e-02,  3.54296900e-02,  2.28760746e-02,  9.94412886e-03,\n",
       "        6.26803873e-04, -2.71130627e-03, -2.32515077e-03, -9.49032985e-04,\n",
       "        0.00000000e+00, -1.02931739e-03, -1.30088098e-03,  1.71217876e-04,\n",
       "        4.46457010e-03,  9.26875033e-03,  1.47611349e-02,  2.33817442e-02,\n",
       "        3.33295249e-02,  4.22523001e-02,  4.76251560e-02,  4.85587538e-02,\n",
       "        4.24841661e-02,  3.06468178e-02,  1.88269803e-02,  1.03002301e-02,\n",
       "        1.04699060e-02,  1.87101310e-02,  3.14407445e-02,  4.29644512e-02,\n",
       "        4.93110271e-02,  4.65685668e-02,  3.41444784e-02,  1.53821556e-02,\n",
       "        1.83607351e-03, -3.15646486e-03, -2.44198586e-03, -8.03016182e-04,\n",
       "       -3.90476467e-04, -1.04824899e-03, -2.31198264e-03, -1.70843082e-03,\n",
       "        2.02921422e-03,  6.29400001e-03,  1.43046328e-02,  2.60540189e-02,\n",
       "        3.67803823e-02,  4.28542009e-02,  4.24972389e-02,  3.66160835e-02,\n",
       "        2.52679960e-02,  1.14032523e-02, -2.64149800e-03, -1.26225287e-02,\n",
       "       -1.32769585e-02, -3.38803608e-03,  1.47068071e-02,  3.62317539e-02,\n",
       "        5.25740550e-02,  5.61841094e-02,  4.72489709e-02,  2.58614039e-02,\n",
       "        5.09817030e-03, -3.51387491e-03, -2.76405969e-03, -1.04499741e-03,\n",
       "       -1.02379159e-03, -1.35205159e-03, -2.57728310e-03, -2.32848632e-03,\n",
       "        8.44018903e-04,  7.63711965e-03,  2.08231239e-02,  3.44364168e-02,\n",
       "        4.34388393e-02,  4.49889585e-02,  3.81126299e-02,  2.74401765e-02,\n",
       "        1.48700790e-02,  1.25598354e-03, -1.45290822e-02, -2.60281720e-02,\n",
       "       -2.80891535e-02, -1.92744099e-02,  1.40812875e-03,  3.01973670e-02,\n",
       "        5.49787578e-02,  6.68534168e-02,  6.28915340e-02,  4.18738817e-02,\n",
       "        1.34276033e-02, -2.07720614e-03, -1.92704557e-03, -7.94803117e-04,\n",
       "       -9.42541728e-04, -9.87916747e-04, -1.80684607e-03, -1.02933195e-03,\n",
       "        4.09880658e-03,  1.59888720e-02,  3.38069917e-02,  4.77331473e-02,\n",
       "        5.33888897e-02,  4.83535320e-02,  3.60882538e-02,  2.34830946e-02,\n",
       "        1.26384400e-02, -1.88435330e-03, -2.07656946e-02, -3.42090086e-02,\n",
       "       -3.61470230e-02, -2.78889450e-02, -5.13319671e-03,  2.79234688e-02,\n",
       "        5.88032005e-02,  7.74852270e-02,  7.96273312e-02,  6.16862524e-02,\n",
       "        2.78873441e-02,  1.03135037e-03, -9.24089134e-04, -6.71696749e-04,\n",
       "       -8.24238105e-04, -7.20803433e-04, -6.31659486e-04,  1.86731128e-03,\n",
       "        9.67565698e-03,  2.93579866e-02,  4.97205260e-02,  6.23896420e-02,\n",
       "        6.21139921e-02,  5.06247863e-02,  3.42920384e-02,  2.13648062e-02,\n",
       "        1.13343876e-02, -5.35776490e-03, -2.69658628e-02, -3.80169384e-02,\n",
       "       -3.81304633e-02, -2.71991144e-02, -3.27149654e-03,  3.16898357e-02,\n",
       "        6.49447173e-02,  8.84350171e-02,  9.29781969e-02,  7.81854085e-02,\n",
       "        4.29387973e-02,  4.11002973e-03,  8.05772274e-05, -8.72325215e-04,\n",
       "       -5.70710674e-04, -3.92771054e-05,  5.24793886e-04,  4.49738279e-03,\n",
       "        1.64658176e-02,  4.32126089e-02,  6.49357194e-02,  7.36560156e-02,\n",
       "        6.68351830e-02,  4.95330608e-02,  3.01616039e-02,  1.64222561e-02,\n",
       "        5.35959208e-03, -1.48163917e-02, -3.46228068e-02, -4.15550597e-02,\n",
       "       -3.72130875e-02, -2.03985716e-02,  6.92142029e-03,  4.06194899e-02,\n",
       "        7.32672502e-02,  9.62560244e-02,  1.01305086e-01,  8.70711988e-02,\n",
       "        5.31233694e-02,  8.84304553e-03,  8.65110822e-04, -7.00601493e-04,\n",
       "       -1.00751363e-03,  3.46303766e-04,  1.49687512e-03,  6.20474553e-03,\n",
       "        2.38826402e-02,  5.64568818e-02,  7.68181983e-02,  8.11602765e-02,\n",
       "        6.91408524e-02,  4.63223550e-02,  2.38142209e-02,  8.34033756e-03,\n",
       "       -5.00773775e-03, -2.81448762e-02, -4.29892498e-02, -4.73210808e-02,\n",
       "       -3.49300313e-02, -1.21446556e-02,  1.74446508e-02,  5.00095060e-02,\n",
       "        7.99186354e-02,  9.98267094e-02,  1.03946911e-01,  8.99538454e-02,\n",
       "        5.70706204e-02,  1.20672470e-02,  6.67175846e-05, -3.17447059e-04,\n",
       "        0.00000000e+00,  3.12175688e-04,  1.63031757e-03,  7.92530775e-03,\n",
       "        3.12024433e-02,  6.78760351e-02,  8.58019325e-02,  8.72594236e-02,\n",
       "        7.01340332e-02,  4.29630296e-02,  1.72690745e-02,  1.74340671e-04,\n",
       "       -1.52321700e-02, -3.90417739e-02, -5.05591113e-02, -5.18433918e-02,\n",
       "       -3.23739423e-02, -7.97353765e-03,  2.27783606e-02,  5.51721703e-02,\n",
       "        8.24152329e-02,  1.00070625e-01,  1.02714522e-01,  8.89491063e-02,\n",
       "        5.76610523e-02,  1.50653764e-02,  1.14509525e-03, -1.18364356e-04,\n",
       "        0.00000000e+00,  0.00000000e+00,  1.61013723e-03,  9.38389975e-03,\n",
       "        3.88393101e-02,  7.70903578e-02,  9.39969623e-02,  9.32236609e-02,\n",
       "        7.36440145e-02,  4.35288469e-02,  1.62500169e-02, -2.27671493e-03,\n",
       "       -2.01908878e-02, -4.17692378e-02, -5.26501672e-02, -5.10997468e-02,\n",
       "       -3.05146161e-02, -6.23815879e-03,  2.63392581e-02,  5.88789679e-02,\n",
       "        8.43222446e-02,  9.98232590e-02,  1.00584701e-01,  8.56176558e-02,\n",
       "        5.42217942e-02,  1.45532494e-02,  1.15645903e-03,  4.24444669e-05,\n",
       "        0.00000000e+00, -1.69197906e-04,  1.66404673e-03,  1.09446418e-02,\n",
       "        4.40425523e-02,  8.31156296e-02,  9.91850771e-02,  9.89629269e-02,\n",
       "        7.92534943e-02,  4.83570645e-02,  2.01632898e-02,  1.54919102e-04,\n",
       "       -1.88388058e-02, -3.80504410e-02, -4.99345813e-02, -4.67334011e-02,\n",
       "       -2.78355969e-02, -1.18337381e-03,  3.37778749e-02,  6.52526808e-02,\n",
       "        8.86978215e-02,  1.00294672e-01,  9.67285332e-02,  7.80992476e-02,\n",
       "        4.70016335e-02,  1.25908283e-02,  6.90886592e-04, -2.27840632e-04,\n",
       "        0.00000000e+00, -5.02905604e-04,  1.82949614e-03,  1.23847912e-02,\n",
       "        4.72037108e-02,  8.43835794e-02,  1.00794737e-01,  1.01638881e-01,\n",
       "        8.40230309e-02,  5.45437522e-02,  2.57254550e-02,  3.46702605e-03,\n",
       "       -1.58294452e-02, -3.42237139e-02, -4.46625662e-02, -3.93602817e-02,\n",
       "       -1.84554905e-02,  1.32682160e-02,  4.79720182e-02,  7.60195567e-02,\n",
       "        9.48124101e-02,  9.97370732e-02,  9.04464692e-02,  6.77243130e-02,\n",
       "        3.72268313e-02,  1.02246020e-02,  7.75780828e-04, -7.01552075e-04,\n",
       "       -1.25586804e-03, -2.80522372e-04,  2.06875717e-03,  1.42303931e-02,\n",
       "        4.72908757e-02,  8.09120355e-02,  9.69632431e-02,  9.94118931e-02,\n",
       "        8.48158145e-02,  5.84907454e-02,  3.06228529e-02,  7.53206700e-03,\n",
       "       -1.15533703e-02, -2.81813101e-02, -3.43478451e-02, -2.41304815e-02,\n",
       "        1.43334402e-03,  3.44416478e-02,  6.50368201e-02,  8.64396165e-02,\n",
       "        9.70653835e-02,  9.33044812e-02,  7.84127770e-02,  5.42327829e-02,\n",
       "        2.75660085e-02,  8.25649852e-03,  1.21442620e-03, -5.00988154e-04,\n",
       "        0.00000000e+00, -1.47955188e-04,  2.19685782e-03,  1.47785269e-02,\n",
       "        4.39746781e-02,  7.33156409e-02,  8.95573221e-02,  9.41129353e-02,\n",
       "        8.49063696e-02,  6.42185085e-02,  3.98164453e-02,  1.81796355e-02,\n",
       "        8.53109555e-05, -1.37214823e-02, -1.61132318e-02, -2.03048708e-03,\n",
       "        2.52514798e-02,  5.40681579e-02,  7.70781168e-02,  9.00580042e-02,\n",
       "        9.12364620e-02,  8.12408751e-02,  6.28100378e-02,  4.05382083e-02,\n",
       "        1.92522839e-02,  6.49702806e-03,  1.54414873e-03, -3.94735576e-04,\n",
       "        0.00000000e+00,  2.19906361e-05,  2.41015037e-03,  1.29404108e-02,\n",
       "        3.71275284e-02,  6.17067620e-02,  7.90068493e-02,  8.63190763e-02,\n",
       "        8.34888458e-02,  7.09842237e-02,  5.29603504e-02,  3.46609632e-02,\n",
       "        1.82520071e-02,  6.49588908e-03,  6.34643778e-03,  2.06026039e-02,\n",
       "        4.32088191e-02,  6.40645478e-02,  7.79323690e-02,  8.18563997e-02,\n",
       "        7.65527300e-02,  6.34117814e-02,  4.58807654e-02,  2.80290906e-02,\n",
       "        1.34465226e-02,  5.12009710e-03,  1.12965263e-03, -5.06501752e-04,\n",
       "       -9.98942270e-04, -6.17508402e-05,  2.08700825e-03,  1.02602401e-02,\n",
       "        2.78574456e-02,  4.71686233e-02,  6.29273958e-02,  7.29730633e-02,\n",
       "        7.47759911e-02,  6.95900128e-02,  5.86211388e-02,  4.43418453e-02,\n",
       "        3.09468506e-02,  2.10619934e-02,  2.10812611e-02,  3.12983728e-02,\n",
       "        4.58500004e-02,  5.82432609e-02,  6.39898182e-02,  6.30745917e-02,\n",
       "        5.57988535e-02,  4.39942877e-02,  3.04983598e-02,  1.98463649e-02,\n",
       "        1.01951115e-02,  3.85381846e-03,  8.44540567e-04,  1.14361372e-03,\n",
       "       -9.98942270e-04, -9.57528183e-04,  9.16731098e-04,  6.96451996e-03,\n",
       "        1.69373977e-02,  3.02995529e-02,  4.23697111e-02,  5.06243910e-02,\n",
       "        5.37520712e-02,  5.12427566e-02,  4.39223369e-02,  3.29616732e-02,\n",
       "        2.20618679e-02,  1.51373869e-02,  1.44634520e-02,  2.03532609e-02,\n",
       "        2.93323684e-02,  3.72453538e-02,  4.14095575e-02,  4.10458247e-02,\n",
       "        3.50655853e-02,  2.75479510e-02,  2.04936724e-02,  1.39031868e-02,\n",
       "        7.84794889e-03,  3.20149866e-03,  3.00871496e-04,  1.14361372e-03,\n",
       "        0.00000000e+00,  0.00000000e+00, -1.16277913e-04,  2.69471112e-03,\n",
       "        6.16319191e-03,  1.14372595e-02,  1.74587895e-02,  2.17761157e-02,\n",
       "        2.33073984e-02,  2.09895131e-02,  1.52907141e-02,  8.05597362e-03,\n",
       "        9.00233635e-04, -3.69907228e-03, -4.04063679e-03,  1.46089640e-04,\n",
       "        7.26471476e-03,  1.39792604e-02,  1.85813383e-02,  1.98419230e-02,\n",
       "        1.93053531e-02,  1.72693508e-02,  1.39430510e-02,  9.10226715e-03,\n",
       "        4.71975697e-03,  7.40285876e-04, -1.04410542e-03,  0.00000000e+00,\n",
       "        0.00000000e+00,  0.00000000e+00, -1.42742739e-04,  1.04066835e-04,\n",
       "        3.65495003e-04,  3.11006211e-04, -3.12809486e-04, -1.57795624e-03,\n",
       "       -4.29665841e-03, -9.24050911e-03, -1.54338533e-02, -2.03813145e-02,\n",
       "       -2.38416126e-02, -2.41346959e-02, -2.20998206e-02, -1.68874187e-02,\n",
       "       -1.04729786e-02, -3.57885566e-03,  2.71745701e-03,  7.30743056e-03,\n",
       "        1.03315735e-02,  1.06704357e-02,  9.62639815e-03,  6.61974670e-03,\n",
       "        2.55640115e-03, -2.43059381e-04, -4.36479949e-04,  0.00000000e+00,\n",
       "        0.00000000e+00,  0.00000000e+00, -8.57038402e-05, -3.21926560e-04,\n",
       "       -1.33979219e-03, -1.95195827e-03, -3.72866670e-03, -7.08941796e-03,\n",
       "       -1.17637437e-02, -1.76001062e-02, -2.37672353e-02, -2.83935385e-02,\n",
       "       -3.03956061e-02, -2.94526865e-02, -2.62500760e-02, -2.16881858e-02,\n",
       "       -1.57489906e-02, -9.15159081e-03, -2.95120484e-03,  1.71486172e-03,\n",
       "        5.07551013e-03,  5.84337155e-03,  5.61165721e-03,  4.67251634e-03,\n",
       "        2.12206652e-03, -1.94986672e-04, -2.92215754e-04,  0.00000000e+00,\n",
       "        0.00000000e+00,  0.00000000e+00,  0.00000000e+00,  0.00000000e+00,\n",
       "       -1.07141445e-03, -1.55473391e-03, -2.82889669e-03, -5.10267219e-03,\n",
       "       -8.23833883e-03, -1.18098720e-02, -1.59474597e-02, -1.93860200e-02,\n",
       "       -2.06921402e-02, -1.97555755e-02, -1.72129580e-02, -1.41435038e-02,\n",
       "       -1.05666166e-02, -6.88655283e-03, -2.90812510e-03,  4.06396194e-04,\n",
       "        2.41953172e-03,  2.25400272e-03,  1.76012298e-03,  3.96807606e-04,\n",
       "        1.35201998e-03, -3.87040804e-04,  0.00000000e+00,  0.00000000e+00,\n",
       "        0.00000000e+00,  0.00000000e+00,  0.00000000e+00,  0.00000000e+00,\n",
       "        0.00000000e+00, -3.01159939e-04, -8.06464404e-04, -1.22044363e-03,\n",
       "       -1.14757552e-03, -1.83553308e-03, -3.89998052e-03, -4.72536530e-03,\n",
       "       -4.70005248e-03, -4.77845963e-03, -4.97386959e-03, -4.03941084e-03,\n",
       "       -2.62702824e-03, -1.89490381e-03, -1.03605920e-03,  5.61652250e-05,\n",
       "        5.94591630e-04,  9.28456880e-04,  9.81019264e-04,  9.29479245e-04,\n",
       "        0.00000000e+00,  0.00000000e+00,  0.00000000e+00,  0.00000000e+00])"
      ]
     },
     "execution_count": 58,
     "metadata": {},
     "output_type": "execute_result"
    }
   ],
   "source": [
    "# vectors[:,0] represents the eigen vector corresponding to the 1st eigen value.(First column in the vectors matrix)\n",
    "# vectors[:,1] represents the eigen vector correspondign to the 2nd eigen value.(Second column in the vectors matrix)\n",
    "'''\n",
    "eg.\n",
    "a= np.array([[4, 3, 8],\n",
    "            [9 ,5 ,1],\n",
    "            [2, 7, 6]])\n",
    "a.shape \n",
    ">>(3, 3)\n",
    "\n",
    "a[:,0]\n",
    ">>array([4, 9, 2])\n",
    "'''\n",
    "eig_vectors[:,0]"
   ]
  },
  {
   "cell_type": "code",
   "execution_count": 59,
   "id": "65297fce",
   "metadata": {},
   "outputs": [],
   "source": [
    "# Sorting eigen values and correspondingly sort and map eigen vectors also\n",
    "sorted_eig_vectors_idx=np.argsort(eig_values)[::-1]"
   ]
  },
  {
   "cell_type": "code",
   "execution_count": 60,
   "id": "6c5ebd7b",
   "metadata": {},
   "outputs": [],
   "source": [
    "exp_var=list()\n",
    "for i in np.sort(eig_values)[::-1]:\n",
    "    ev=i/np.sum(eig_values)\n",
    "    exp_var.append(ev)"
   ]
  },
  {
   "cell_type": "code",
   "execution_count": 61,
   "id": "45537112",
   "metadata": {},
   "outputs": [
    {
     "data": {
      "image/png": "[encoded data removed]",
      "text/plain": [
       "<Figure size 700x420 with 1 Axes>"
      ]
     },
     "metadata": {},
     "output_type": "display_data"
    }
   ],
   "source": [
    "# Calculation variance explained for each component \n",
    "# % variance explained / information preserved = ∑λ(number of components) / ∑ λi where λ=eigen values \n",
    "\n",
    "sns.set_style('whitegrid')\n",
    "plt.figure(figsize=(10, 6), dpi=70)\n",
    "plt.clf()\n",
    "plt.plot(np.cumsum(exp_var),linewidth=2)\n",
    "plt.xlabel('number of components')\n",
    "plt.ylabel('variance / information preserved')\n",
    "plt.show()\n",
    "\n",
    "# If we take 200-dimensions/components, approx. 90% of variance is expalined."
   ]
  },
  {
   "cell_type": "code",
   "execution_count": 62,
   "id": "8876f5d4",
   "metadata": {},
   "outputs": [],
   "source": [
    "# Sorting eigen values and correspondingly sort and map eigen vectors also\n",
    "# We take 2 components ie. reduce dimensions from 784D to 2D\n",
    "n_components=2\n",
    "n_eigen_vectors=eig_vectors[:,sorted_eig_vectors_idx[:n_components]]"
   ]
  },
  {
   "cell_type": "code",
   "execution_count": 63,
   "id": "c9e84c51",
   "metadata": {},
   "outputs": [
    {
     "data": {
      "text/plain": [
       "(784, 2)"
      ]
     },
     "execution_count": 63,
     "metadata": {},
     "output_type": "execute_result"
    }
   ],
   "source": [
    "n_eigen_vectors.shape"
   ]
  },
  {
   "cell_type": "code",
   "execution_count": 64,
   "id": "aaa132a6",
   "metadata": {},
   "outputs": [],
   "source": [
    "# Finally creating 2D data by multiplying eigrn vectors with standardized data matrix\n",
    "# ie. shapes (42000 x 784) * (784 x 2) = (42000, 2)\n",
    "\n",
    "pca_data=np.matmul(std_data,n_eigen_vectors)"
   ]
  },
  {
   "cell_type": "code",
   "execution_count": 65,
   "id": "a39c3ea1",
   "metadata": {},
   "outputs": [
    {
     "data": {
      "text/plain": [
       "(42000, 2)"
      ]
     },
     "execution_count": 65,
     "metadata": {},
     "output_type": "execute_result"
    }
   ],
   "source": [
    "pca_data.shape"
   ]
  },
  {
   "cell_type": "code",
   "execution_count": 66,
   "id": "ca65adc0",
   "metadata": {},
   "outputs": [],
   "source": [
    "pca_dataf=pd.DataFrame(pca_data,columns=['component_'+str(i) for i in range(1,n_components+1)])\n",
    "pca_dataf['labels']=data_labels"
   ]
  },
  {
   "cell_type": "code",
   "execution_count": 67,
   "id": "e6fa78c3",
   "metadata": {},
   "outputs": [
    {
     "data": {
      "text/html": [
       "<div>\n",
       "<style scoped>\n",
       "    .dataframe tbody tr th:only-of-type {\n",
       "        vertical-align: middle;\n",
       "    }\n",
       "\n",
       "    .dataframe tbody tr th {\n",
       "        vertical-align: top;\n",
       "    }\n",
       "\n",
       "    .dataframe thead th {\n",
       "        text-align: right;\n",
       "    }\n",
       "</style>\n",
       "<table border=\"1\" class=\"dataframe\">\n",
       "  <thead>\n",
       "    <tr style=\"text-align: right;\">\n",
       "      <th></th>\n",
       "      <th>component_1</th>\n",
       "      <th>component_2</th>\n",
       "      <th>labels</th>\n",
       "    </tr>\n",
       "  </thead>\n",
       "  <tbody>\n",
       "    <tr>\n",
       "      <th>0</th>\n",
       "      <td>-5.140478</td>\n",
       "      <td>-5.226445</td>\n",
       "      <td>1</td>\n",
       "    </tr>\n",
       "    <tr>\n",
       "      <th>1</th>\n",
       "      <td>19.292332</td>\n",
       "      <td>6.032996</td>\n",
       "      <td>0</td>\n",
       "    </tr>\n",
       "    <tr>\n",
       "      <th>2</th>\n",
       "      <td>-7.644503</td>\n",
       "      <td>-1.705813</td>\n",
       "      <td>1</td>\n",
       "    </tr>\n",
       "    <tr>\n",
       "      <th>3</th>\n",
       "      <td>-0.474207</td>\n",
       "      <td>5.836139</td>\n",
       "      <td>4</td>\n",
       "    </tr>\n",
       "    <tr>\n",
       "      <th>4</th>\n",
       "      <td>26.559574</td>\n",
       "      <td>6.024818</td>\n",
       "      <td>0</td>\n",
       "    </tr>\n",
       "    <tr>\n",
       "      <th>...</th>\n",
       "      <td>...</td>\n",
       "      <td>...</td>\n",
       "      <td>...</td>\n",
       "    </tr>\n",
       "    <tr>\n",
       "      <th>41995</th>\n",
       "      <td>13.678849</td>\n",
       "      <td>-1.350366</td>\n",
       "      <td>0</td>\n",
       "    </tr>\n",
       "    <tr>\n",
       "      <th>41996</th>\n",
       "      <td>-8.869582</td>\n",
       "      <td>-1.187360</td>\n",
       "      <td>1</td>\n",
       "    </tr>\n",
       "    <tr>\n",
       "      <th>41997</th>\n",
       "      <td>0.495391</td>\n",
       "      <td>7.076277</td>\n",
       "      <td>7</td>\n",
       "    </tr>\n",
       "    <tr>\n",
       "      <th>41998</th>\n",
       "      <td>2.307240</td>\n",
       "      <td>-4.344513</td>\n",
       "      <td>6</td>\n",
       "    </tr>\n",
       "    <tr>\n",
       "      <th>41999</th>\n",
       "      <td>-4.807670</td>\n",
       "      <td>1.559121</td>\n",
       "      <td>9</td>\n",
       "    </tr>\n",
       "  </tbody>\n",
       "</table>\n",
       "<p>42000 rows × 3 columns</p>\n",
       "</div>"
      ],
      "text/plain": [
       "       component_1  component_2  labels\n",
       "0        -5.140478    -5.226445       1\n",
       "1        19.292332     6.032996       0\n",
       "2        -7.644503    -1.705813       1\n",
       "3        -0.474207     5.836139       4\n",
       "4        26.559574     6.024818       0\n",
       "...            ...          ...     ...\n",
       "41995    13.678849    -1.350366       0\n",
       "41996    -8.869582    -1.187360       1\n",
       "41997     0.495391     7.076277       7\n",
       "41998     2.307240    -4.344513       6\n",
       "41999    -4.807670     1.559121       9\n",
       "\n",
       "[42000 rows x 3 columns]"
      ]
     },
     "execution_count": 67,
     "metadata": {},
     "output_type": "execute_result"
    }
   ],
   "source": [
    "pca_dataf"
   ]
  },
  {
   "cell_type": "code",
   "execution_count": 68,
   "id": "cc9b1a7d",
   "metadata": {},
   "outputs": [
    {
     "data": {
      "image/png": "[encoded data removed]",
      "text/plain": [
       "<Figure size 473.625x432 with 1 Axes>"
      ]
     },
     "metadata": {},
     "output_type": "display_data"
    }
   ],
   "source": [
    "# Plotting changed 2D data\n",
    "\n",
    "sns.set_style(\"whitegrid\");\n",
    "sns.FacetGrid(pca_dataf, hue='labels', height=6) \\\n",
    " .map(plt.scatter, \"component_1\", \"component_2\") \\\n",
    " .add_legend();\n",
    "plt.show();\n"
   ]
  },
  {
   "cell_type": "code",
   "execution_count": null,
   "id": "a9769512",
   "metadata": {},
   "outputs": [],
   "source": []
  },
  {
   "cell_type": "markdown",
   "id": "afa26f80",
   "metadata": {},
   "source": [
    "## Sklearn's PCA Implementation"
   ]
  },
  {
   "cell_type": "code",
   "execution_count": 184,
   "id": "82001dc7",
   "metadata": {},
   "outputs": [],
   "source": [
    "from sklearn.decomposition import PCA\n",
    "pca = PCA(n_components=2)\n",
    "skpca_data=pca.fit_transform(std_data)"
   ]
  },
  {
   "cell_type": "code",
   "execution_count": 185,
   "id": "885c9eff",
   "metadata": {},
   "outputs": [
    {
     "data": {
      "text/plain": [
       "(42000, 2)"
      ]
     },
     "execution_count": 185,
     "metadata": {},
     "output_type": "execute_result"
    }
   ],
   "source": [
    "skpca_data.shape"
   ]
  },
  {
   "cell_type": "code",
   "execution_count": 186,
   "id": "b6a1e2a3",
   "metadata": {},
   "outputs": [],
   "source": [
    "skpca_dataf=pd.DataFrame(skpca_data,columns=['component_'+str(i) for i in range(1,2+1)])\n",
    "skpca_dataf['labels']=data_labels"
   ]
  },
  {
   "cell_type": "code",
   "execution_count": 187,
   "id": "a3056cf9",
   "metadata": {},
   "outputs": [
    {
     "data": {
      "text/html": [
       "<div>\n",
       "<style scoped>\n",
       "    .dataframe tbody tr th:only-of-type {\n",
       "        vertical-align: middle;\n",
       "    }\n",
       "\n",
       "    .dataframe tbody tr th {\n",
       "        vertical-align: top;\n",
       "    }\n",
       "\n",
       "    .dataframe thead th {\n",
       "        text-align: right;\n",
       "    }\n",
       "</style>\n",
       "<table border=\"1\" class=\"dataframe\">\n",
       "  <thead>\n",
       "    <tr style=\"text-align: right;\">\n",
       "      <th></th>\n",
       "      <th>component_1</th>\n",
       "      <th>component_2</th>\n",
       "      <th>labels</th>\n",
       "    </tr>\n",
       "  </thead>\n",
       "  <tbody>\n",
       "    <tr>\n",
       "      <th>0</th>\n",
       "      <td>-5.140502</td>\n",
       "      <td>-5.227321</td>\n",
       "      <td>1</td>\n",
       "    </tr>\n",
       "    <tr>\n",
       "      <th>1</th>\n",
       "      <td>19.292260</td>\n",
       "      <td>6.033558</td>\n",
       "      <td>0</td>\n",
       "    </tr>\n",
       "    <tr>\n",
       "      <th>2</th>\n",
       "      <td>-7.644507</td>\n",
       "      <td>-1.705533</td>\n",
       "      <td>1</td>\n",
       "    </tr>\n",
       "    <tr>\n",
       "      <th>3</th>\n",
       "      <td>-0.474240</td>\n",
       "      <td>5.837318</td>\n",
       "      <td>4</td>\n",
       "    </tr>\n",
       "    <tr>\n",
       "      <th>4</th>\n",
       "      <td>26.559522</td>\n",
       "      <td>6.024906</td>\n",
       "      <td>0</td>\n",
       "    </tr>\n",
       "    <tr>\n",
       "      <th>...</th>\n",
       "      <td>...</td>\n",
       "      <td>...</td>\n",
       "      <td>...</td>\n",
       "    </tr>\n",
       "    <tr>\n",
       "      <th>41995</th>\n",
       "      <td>13.678820</td>\n",
       "      <td>-1.349668</td>\n",
       "      <td>0</td>\n",
       "    </tr>\n",
       "    <tr>\n",
       "      <th>41996</th>\n",
       "      <td>-8.869582</td>\n",
       "      <td>-1.187039</td>\n",
       "      <td>1</td>\n",
       "    </tr>\n",
       "    <tr>\n",
       "      <th>41997</th>\n",
       "      <td>0.495365</td>\n",
       "      <td>7.076536</td>\n",
       "      <td>7</td>\n",
       "    </tr>\n",
       "    <tr>\n",
       "      <th>41998</th>\n",
       "      <td>2.307221</td>\n",
       "      <td>-4.343699</td>\n",
       "      <td>6</td>\n",
       "    </tr>\n",
       "    <tr>\n",
       "      <th>41999</th>\n",
       "      <td>-4.807649</td>\n",
       "      <td>1.559219</td>\n",
       "      <td>9</td>\n",
       "    </tr>\n",
       "  </tbody>\n",
       "</table>\n",
       "<p>42000 rows × 3 columns</p>\n",
       "</div>"
      ],
      "text/plain": [
       "       component_1  component_2  labels\n",
       "0        -5.140502    -5.227321       1\n",
       "1        19.292260     6.033558       0\n",
       "2        -7.644507    -1.705533       1\n",
       "3        -0.474240     5.837318       4\n",
       "4        26.559522     6.024906       0\n",
       "...            ...          ...     ...\n",
       "41995    13.678820    -1.349668       0\n",
       "41996    -8.869582    -1.187039       1\n",
       "41997     0.495365     7.076536       7\n",
       "41998     2.307221    -4.343699       6\n",
       "41999    -4.807649     1.559219       9\n",
       "\n",
       "[42000 rows x 3 columns]"
      ]
     },
     "execution_count": 187,
     "metadata": {},
     "output_type": "execute_result"
    }
   ],
   "source": [
    "skpca_dataf"
   ]
  },
  {
   "cell_type": "code",
   "execution_count": 188,
   "id": "a8ad8e0a",
   "metadata": {},
   "outputs": [
    {
     "data": {
      "image/png": "[encoded data removed]",
      "text/plain": [
       "<Figure size 477.85x432 with 1 Axes>"
      ]
     },
     "metadata": {},
     "output_type": "display_data"
    }
   ],
   "source": [
    "sns.set_style(\"whitegrid\");\n",
    "sns.FacetGrid(skpca_dataf, hue='labels', height=6) \\\n",
    " .map(plt.scatter, \"component_1\", \"component_2\") \\\n",
    " .add_legend();\n",
    "plt.show();\n"
   ]
  },
  {
   "cell_type": "code",
   "execution_count": null,
   "id": "84066639",
   "metadata": {},
   "outputs": [],
   "source": []
  },
  {
   "cell_type": "code",
   "execution_count": null,
   "id": "c648bd26",
   "metadata": {},
   "outputs": [],
   "source": []
  }
 ],
 "metadata": {
  "kernelspec": {
   "display_name": "env1",
   "language": "python",
   "name": "env1"
  },
  "language_info": {
   "codemirror_mode": {
    "name": "ipython",
    "version": 3
   },
   "file_extension": ".py",
   "mimetype": "text/x-python",
   "name": "python",
   "nbconvert_exporter": "python",
   "pygments_lexer": "ipython3",
   "version": "3.8.10"
  }
 },
 "nbformat": 4,
 "nbformat_minor": 5
}
